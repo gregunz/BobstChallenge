{
 "cells": [
  {
   "cell_type": "code",
   "execution_count": null,
   "metadata": {
    "collapsed": true
   },
   "outputs": [],
   "source": [
    "import os\n",
    "import cv2\n",
    "import itertools as it\n",
    "from tqdm import tqdm_notebook as tqdm\n",
    "import numpy as np \n",
    "from matplotlib import pyplot as plt\n",
    "\n",
    "\n",
    "from impl import *"
   ]
  },
  {
   "cell_type": "code",
   "execution_count": null,
   "metadata": {
    "collapsed": true
   },
   "outputs": [],
   "source": [
    "images_dir = \"E:/Bobst/Images\"\n",
    "images_paths = [\"{d}/{f}\".format(d=images_dir, f=f) for f in os.listdir(images_dir)]"
   ]
  },
  {
   "cell_type": "code",
   "execution_count": null,
   "metadata": {},
   "outputs": [],
   "source": [
    "images = [cv2.imread(p, 0) for p in tqdm(images_paths[1650:1660])]"
   ]
  },
  {
   "cell_type": "code",
   "execution_count": null,
   "metadata": {
    "collapsed": true
   },
   "outputs": [],
   "source": [
    "template = cv2.imread(images_paths[0], 0)"
   ]
  },
  {
   "cell_type": "code",
   "execution_count": null,
   "metadata": {
    "collapsed": true
   },
   "outputs": [],
   "source": [
    "def_pos = [np.array([320, 1098]), np.array([1350, 1097])]\n",
    "templates = [template[1100:1225, 320:440], template[1100:1225, 1350:1650]]\n",
    "    "
   ]
  },
  {
   "cell_type": "code",
   "execution_count": null,
   "metadata": {
    "collapsed": true
   },
   "outputs": [],
   "source": [
    "template_img = cv2.imread(images_paths[0], 0)\n",
    "def_pos = np.array([320, 1098])\n",
    "def_pos2 = np.array([1350, 1097])\n",
    "template_1 = template_img[1100:1225, 320:440]\n",
    "template_3 = template_img[1100:1225, 1350:1650]"
   ]
  },
  {
   "cell_type": "code",
   "execution_count": null,
   "metadata": {
    "collapsed": true
   },
   "outputs": [],
   "source": [
    "def old_align(img, template):\n",
    "    \n",
    "    # Find size of image1\n",
    "    sz = template.shape\n",
    "\n",
    "    # Define the motion model\n",
    "    warp_mode = cv2.MOTION_AFFINE\n",
    "    warp_matrix = np.eye(2, 3, dtype=np.float32)\n",
    "\n",
    "    # Run the ECC algorithm. The results are stored in warp_matrix.\n",
    "    (_, warp_matrix) = cv2.findTransformECC(template, img, warp_matrix, warp_mode)\n",
    "\n",
    "    img_aligned = cv2.warpAffine(img, warp_matrix, (sz[1],sz[0]), flags=cv2.INTER_LINEAR + cv2.WARP_INVERSE_MAP)\n",
    "    return img_aligned"
   ]
  },
  {
   "cell_type": "code",
   "execution_count": null,
   "metadata": {},
   "outputs": [],
   "source": [
    "aligned_images = [sub_align(img) for img in tqdm(images)]"
   ]
  },
  {
   "cell_type": "code",
   "execution_count": null,
   "metadata": {},
   "outputs": [],
   "source": [
    "aligned_images = [old_align(img, images[0]) for img in tqdm(images)]"
   ]
  },
  {
   "cell_type": "code",
   "execution_count": null,
   "metadata": {},
   "outputs": [],
   "source": [
    "std = np.std(aligned_images, axis=0)\n",
    "std.shape"
   ]
  },
  {
   "cell_type": "code",
   "execution_count": null,
   "metadata": {},
   "outputs": [],
   "source": [
    "mean = np.mean(aligned_images, axis=0)\n",
    "mean.shape"
   ]
  },
  {
   "cell_type": "code",
   "execution_count": null,
   "metadata": {
    "collapsed": true
   },
   "outputs": [],
   "source": [
    "dif = mean - aligned_images[7]"
   ]
  },
  {
   "cell_type": "code",
   "execution_count": null,
   "metadata": {
    "collapsed": true
   },
   "outputs": [],
   "source": [
    "dif_contrast = contrast(dif, 15)"
   ]
  },
  {
   "cell_type": "code",
   "execution_count": null,
   "metadata": {},
   "outputs": [],
   "source": [
    "np.max(dif_contrast)"
   ]
  },
  {
   "cell_type": "code",
   "execution_count": null,
   "metadata": {},
   "outputs": [],
   "source": [
    "save(dif_contrast, \"dif_contrast.jpg\") "
   ]
  },
  {
   "cell_type": "code",
   "execution_count": null,
   "metadata": {
    "collapsed": true
   },
   "outputs": [],
   "source": []
  },
  {
   "cell_type": "code",
   "execution_count": null,
   "metadata": {
    "collapsed": true
   },
   "outputs": [],
   "source": []
  },
  {
   "cell_type": "code",
   "execution_count": null,
   "metadata": {
    "collapsed": true
   },
   "outputs": [],
   "source": []
  },
  {
   "cell_type": "code",
   "execution_count": null,
   "metadata": {},
   "outputs": [],
   "source": [
    "show(dif_contrast) "
   ]
  },
  {
   "cell_type": "code",
   "execution_count": null,
   "metadata": {
    "scrolled": false
   },
   "outputs": [],
   "source": [
    "show(dif_contrast) "
   ]
  },
  {
   "cell_type": "code",
   "execution_count": null,
   "metadata": {
    "collapsed": true
   },
   "outputs": [],
   "source": []
  },
  {
   "cell_type": "code",
   "execution_count": null,
   "metadata": {
    "collapsed": true
   },
   "outputs": [],
   "source": [
    "cv2.imwrite(\"E:\\dif_p.jpg\", (dif > 0) * dif)"
   ]
  },
  {
   "cell_type": "code",
   "execution_count": null,
   "metadata": {
    "collapsed": true
   },
   "outputs": [],
   "source": [
    "dif.shape, dif[0, 0]"
   ]
  },
  {
   "cell_type": "code",
   "execution_count": null,
   "metadata": {
    "collapsed": true
   },
   "outputs": [],
   "source": [
    "dif_constrast = (dif > 50) * 255 # * dif"
   ]
  },
  {
   "cell_type": "code",
   "execution_count": null,
   "metadata": {
    "collapsed": true
   },
   "outputs": [],
   "source": [
    "(dif_constrast > 0).sum()"
   ]
  },
  {
   "cell_type": "code",
   "execution_count": null,
   "metadata": {
    "collapsed": true,
    "scrolled": true
   },
   "outputs": [],
   "source": [
    "cv2.imwrite(\"E:\\dif_p_contrast.jpg\", dif_constrast)"
   ]
  },
  {
   "cell_type": "code",
   "execution_count": null,
   "metadata": {
    "collapsed": true,
    "scrolled": false
   },
   "outputs": [],
   "source": [
    "np.nonzero(std - std2)"
   ]
  },
  {
   "cell_type": "code",
   "execution_count": null,
   "metadata": {
    "collapsed": true
   },
   "outputs": [],
   "source": [
    "orb = cv2.ORB_create()\n",
    "bf = cv2.BFMatcher(cv2.NORM_HAMMING, crossCheck=True)"
   ]
  },
  {
   "cell_type": "code",
   "execution_count": null,
   "metadata": {
    "collapsed": true
   },
   "outputs": [],
   "source": [
    "kp_des = [orb.detectAndCompute(img,None) for img in tqdm(aligned_images)]"
   ]
  },
  {
   "cell_type": "code",
   "execution_count": null,
   "metadata": {
    "collapsed": true
   },
   "outputs": [],
   "source": [
    "combinations = list(it.combinations(range(len(kp_des)), 2))"
   ]
  },
  {
   "cell_type": "code",
   "execution_count": null,
   "metadata": {
    "collapsed": true
   },
   "outputs": [],
   "source": [
    "all_matches = [bf.match(kp_des[i][1], kp_des[j][1]) for i,j in tqdm(combinations)]"
   ]
  },
  {
   "cell_type": "code",
   "execution_count": null,
   "metadata": {
    "collapsed": true
   },
   "outputs": [],
   "source": [
    "distances = [np.sum([m.distance for m in matches]) for matches in all_matches]"
   ]
  },
  {
   "cell_type": "code",
   "execution_count": null,
   "metadata": {
    "collapsed": true
   },
   "outputs": [],
   "source": [
    "np.argsort(distances)"
   ]
  },
  {
   "cell_type": "code",
   "execution_count": null,
   "metadata": {
    "collapsed": true
   },
   "outputs": [],
   "source": [
    "np.max(distances), np.min(distances)"
   ]
  },
  {
   "cell_type": "code",
   "execution_count": null,
   "metadata": {
    "collapsed": true
   },
   "outputs": [],
   "source": [
    "idx = np.argsort(distances)[0]\n",
    "distances[idx], combinations[idx]"
   ]
  },
  {
   "cell_type": "code",
   "execution_count": null,
   "metadata": {
    "collapsed": true
   },
   "outputs": [],
   "source": [
    "img_idx1 = combinations[idx][0]\n",
    "img_idx2 = combinations[idx][1]\n",
    "\n",
    "kp1 = kp_des[img_idx1][0]\n",
    "kp2 = kp_des[img_idx2][0]\n",
    "\n",
    "matches = all_matches[idx]\n",
    "\n",
    "img1 = aligned_images[img_idx1]\n",
    "img2 = aligned_images[img_idx2]"
   ]
  },
  {
   "cell_type": "code",
   "execution_count": null,
   "metadata": {
    "collapsed": true
   },
   "outputs": [],
   "source": [
    "img3 = cv2.drawMatches(img1,kp1,img2,kp2,matches, None, flags=2)"
   ]
  },
  {
   "cell_type": "code",
   "execution_count": null,
   "metadata": {
    "collapsed": true,
    "scrolled": false
   },
   "outputs": [],
   "source": [
    "plt.figure(figsize=(20, 20))\n",
    "plt.imshow(img3)\n",
    "plt.show()"
   ]
  },
  {
   "cell_type": "code",
   "execution_count": null,
   "metadata": {
    "collapsed": true
   },
   "outputs": [],
   "source": [
    "dif = cv2.subtract(img1, img2)"
   ]
  },
  {
   "cell_type": "code",
   "execution_count": null,
   "metadata": {
    "collapsed": true
   },
   "outputs": [],
   "source": [
    "dif2 = cv2.subtract(resized_img[0], resized_img[1])"
   ]
  },
  {
   "cell_type": "code",
   "execution_count": null,
   "metadata": {
    "collapsed": true
   },
   "outputs": [],
   "source": [
    "cv2.imwrite(\"E:\\dif2.jpg\", dif2)"
   ]
  },
  {
   "cell_type": "code",
   "execution_count": null,
   "metadata": {
    "collapsed": true
   },
   "outputs": [],
   "source": [
    "plt.figure(figsize=(20, 15))\n",
    "plt.imshow(dif2)\n",
    "plt.show()"
   ]
  },
  {
   "cell_type": "code",
   "execution_count": null,
   "metadata": {
    "collapsed": true
   },
   "outputs": [],
   "source": []
  },
  {
   "cell_type": "code",
   "execution_count": null,
   "metadata": {
    "collapsed": true,
    "scrolled": true
   },
   "outputs": [],
   "source": [
    "img = cv2.imread(pictures[0])\n",
    "img_cropped = crop_contour(img)\n",
    "\n",
    "cv2.imwrite(\"E:\\diff.jpg\", img_cropped)"
   ]
  },
  {
   "cell_type": "code",
   "execution_count": null,
   "metadata": {
    "collapsed": true
   },
   "outputs": [],
   "source": [
    "mask = np.zeros_like(im) + 255 # Create mask where white is what we want, black otherwise\n",
    "cv2.drawContours(mask, cnt, idx, 255, -1) # Draw filled contour in mask\n",
    "out = np.zeros_like(im) # Extract out the object and place into output image\n",
    "out[mask == 255] = im[mask == 255]\n",
    "\n",
    "cv2.imwrite(\"E:\\diff.jpg\", out)"
   ]
  },
  {
   "cell_type": "code",
   "execution_count": null,
   "metadata": {
    "collapsed": true
   },
   "outputs": [],
   "source": [
    "def draw_contour(img):\n",
    "    img = img.copy()\n",
    "    img_gray = cv2.cvtColor(img,cv2.COLOR_BGR2GRAY)\n",
    "    \n",
    "    _, thresh = cv2.threshold(img_gray,127,255,0)\n",
    "    \n",
    "    _, contours, hierarchy = cv2.findContours(thresh,cv2.RETR_TREE,cv2.CHAIN_APPROX_SIMPLE)\n",
    "    cnt = max(contours, key = cv2.contourArea)\n",
    "    \n",
    "    cv2.drawContours(img, [cnt], 0, (0,255,0), 3)\n",
    "    return img"
   ]
  },
  {
   "cell_type": "code",
   "execution_count": null,
   "metadata": {
    "collapsed": true
   },
   "outputs": [],
   "source": [
    "img = cropped_images[1]#draw_contour(images[-4])\n",
    "\n",
    "plt.figure(figsize=(20, 20))\n",
    "plt.imshow(img)\n",
    "plt.show()"
   ]
  },
  {
   "cell_type": "code",
   "execution_count": null,
   "metadata": {
    "collapsed": true
   },
   "outputs": [],
   "source": [
    "im1 =  cv2.imread(images_paths[0]);\n",
    "im2 =  cv2.imread(images_paths[1]);\n",
    "\n",
    "cropped1 = crop_contour(im1)\n",
    "cropped2 = crop_contour(im2)\n",
    "\n",
    "min_shape = get_min_width_height([cropped1, cropped2])\n",
    "\n",
    "resized1 = cv2.resize(cropped1, min_shape)\n",
    "resized2 = cv2.resize(cropped2, min_shape)\n",
    "\n",
    "cv2.imwrite(\"E:\\img_resized1.jpg\", resized1)\n",
    "cv2.imwrite(\"E:\\img_resized2.jpg\", resized2)"
   ]
  },
  {
   "cell_type": "code",
   "execution_count": null,
   "metadata": {
    "collapsed": true
   },
   "outputs": [],
   "source": [
    "# Read the images to be aligned\n",
    "img2 =  cv2.imread(images_paths[2]);\n",
    " \n",
    "img2_aligned = align(img)\n",
    "\n",
    "cv2.imwrite(\"E:\\img1.jpg\", img_template)\n",
    "cv2.imwrite(\"E:\\img2.jpg\", img2)\n",
    "cv2.imwrite(\"E:\\img_aligned.jpg\", img2_aligned)"
   ]
  },
  {
   "cell_type": "code",
   "execution_count": null,
   "metadata": {
    "collapsed": true
   },
   "outputs": [],
   "source": [
    "def contour(img):\n",
    "    \n",
    "    _, thresh = cv2.threshold(img,127,255,0)\n",
    "    \n",
    "    _, contours, hierarchy = cv2.findContours(thresh, cv2.RETR_TREE, cv2.CHAIN_APPROX_SIMPLE)\n",
    "    cnt = max(contours, key = cv2.contourArea)\n",
    "    \n",
    "    return cnt"
   ]
  },
  {
   "cell_type": "code",
   "execution_count": null,
   "metadata": {
    "collapsed": true
   },
   "outputs": [],
   "source": [
    "\n",
    "def show(img):\n",
    "    plt.figure(figsize=(20, 20))\n",
    "    plt.imshow(img, cmap='gray', vmin = 0, vmax = 255)\n",
    "    plt.show()"
   ]
  },
  {
   "cell_type": "code",
   "execution_count": null,
   "metadata": {
    "collapsed": true
   },
   "outputs": [],
   "source": [
    "def sub_align(img):\n",
    "    rows,cols = img.shape\n",
    "    res_1_ = cv2.matchTemplate(img,template_1,cv2.TM_CCOEFF)\n",
    "    res_3_ = cv2.matchTemplate(img,template_3,cv2.TM_CCOEFF)\n",
    "\n",
    "    _, _, _, max_loc_1_ = cv2.minMaxLoc(res_1_)\n",
    "    _, _, _, max_loc_3_ = cv2.minMaxLoc(res_3_)\n",
    "    del res_1_\n",
    "    del res_3_\n",
    "    pos_1 = np.array([max_loc_1_[0], max_loc_1_[1]])\n",
    "    pos_3 = np.array([max_loc_3_[0], max_loc_3_[1]])\n",
    "    \n",
    "    #translate\n",
    "    trans = def_pos - pos_1\n",
    "    M = np.float32([[1,0,trans[0]],[0,1,trans[1]]])\n",
    "    dst = cv2.warpAffine(img,M,(cols,rows))\n",
    "    #rotation\n",
    "    angle = angle_between(pos_3-pos_1, def_pos2-def_pos)\n",
    "    M = cv2.getRotationMatrix2D((def_pos[0],def_pos[1]),angle,1)\n",
    "    dst = cv2.warpAffine(dst,M,(cols,rows))\n",
    "    return dst\n",
    "def aligne(img, path):\n",
    "    template_img = cv2.imread(path, 0)\n",
    "    def_pos = np.array([320, 1098])\n",
    "    def_pos2 = np.array([1350, 1097])\n",
    "    template_1 = template_img[1100:1225, 320:440]\n",
    "    template_3 = template_img[1100:1225, 1350:1650]\n",
    "    return sub_align(img)"
   ]
  },
  {
   "cell_type": "code",
   "execution_count": null,
   "metadata": {
    "collapsed": true
   },
   "outputs": [],
   "source": [
    "def save(img, filename):\n",
    "    return cv2.imwrite(\"E:/Bobst/{}\".format(filename), img)"
   ]
  },
  {
   "cell_type": "code",
   "execution_count": null,
   "metadata": {
    "collapsed": true
   },
   "outputs": [],
   "source": []
  }
 ],
 "metadata": {
  "kernelspec": {
   "display_name": "Python 3",
   "language": "python",
   "name": "python3"
  },
  "language_info": {
   "codemirror_mode": {
    "name": "ipython",
    "version": 3
   },
   "file_extension": ".py",
   "mimetype": "text/x-python",
   "name": "python",
   "nbconvert_exporter": "python",
   "pygments_lexer": "ipython3",
   "version": "3.6.1"
  }
 },
 "nbformat": 4,
 "nbformat_minor": 2
}
